{
 "cells": [
  {
   "cell_type": "code",
   "execution_count": 1,
   "id": "e12b76c2",
   "metadata": {},
   "outputs": [
    {
     "name": "stdout",
     "output_type": "stream",
     "text": [
      "140\n"
     ]
    }
   ],
   "source": [
    "class xyz:\n",
    "    p=20\n",
    "    q=30\n",
    "    def func1(self):\n",
    "        print(self.p)\n",
    "    def func2(self,b):\n",
    "        m=b*self.p\n",
    "        print(m)\n",
    "obj=xyz()\n",
    "obj.func2(7)"
   ]
  },
  {
   "cell_type": "code",
   "execution_count": 2,
   "id": "2c739276",
   "metadata": {},
   "outputs": [],
   "source": [
    "class Dog:\n",
    "    def __init__(self,name):\n",
    "        self.name=name\n",
    "    def talk(self):\n",
    "        print(\"woof!\")\n",
    "        \n",
    "    def printname(self):\n",
    "        print(\"my name is:{}\".format(self.name))"
   ]
  },
  {
   "cell_type": "code",
   "execution_count": 3,
   "id": "af7907b2",
   "metadata": {},
   "outputs": [
    {
     "name": "stdout",
     "output_type": "stream",
     "text": [
      "woof!\n",
      "my name is:charlie\n"
     ]
    }
   ],
   "source": [
    "dog=Dog(\"charlie\")\n",
    "dog.talk()\n",
    "dog.printname()"
   ]
  },
  {
   "cell_type": "code",
   "execution_count": 7,
   "id": "1d08523a",
   "metadata": {},
   "outputs": [
    {
     "name": "stdout",
     "output_type": "stream",
     "text": [
      "enter a id \n",
      "1\n",
      "enter a name \n",
      "sirisha\n",
      "enetr salary\n",
      "40000\n"
     ]
    }
   ],
   "source": [
    "class faculty:\n",
    "    def data(self):\n",
    "        self.id=int(input(\"enter a id \\n\"))\n",
    "        self.name=input(\"enter a name \\n\")\n",
    "        self.salary=int(input(\"enetr salary\\n\"))\n",
    "    def show(self):\n",
    "        print(\"faculty id:\",self.id)\n",
    "        print(\"faculty name:\",self.name)\n",
    "        print(\"faculty salary:\",self.salary)\n",
    "object=faculty()\n",
    "object.data()"
   ]
  },
  {
   "cell_type": "code",
   "execution_count": 10,
   "id": "e025166d",
   "metadata": {},
   "outputs": [
    {
     "name": "stdout",
     "output_type": "stream",
     "text": [
      "faculty id: 1\n",
      "faculty name: john\n",
      "faculty salary: 3000\n"
     ]
    }
   ],
   "source": [
    "class faculty:\n",
    "    def __init__(self,id,name,salary):\n",
    "        self.id=id\n",
    "        self.name=name\n",
    "        self.salary=salary\n",
    "    def show(self):\n",
    "        print(\"faculty id:\",self.id)\n",
    "        print(\"faculty name:\",self.name)\n",
    "        print(\"faculty salary:\",self.salary)\n",
    "info=faculty(1,\"john\",3000)\n",
    "info.show()"
   ]
  },
  {
   "cell_type": "code",
   "execution_count": 11,
   "id": "e2ee08a3",
   "metadata": {},
   "outputs": [],
   "source": [
    "#inheritance\n",
    "class Animal:\n",
    "    def __init__(self,name):\n",
    "        self.name=name\n",
    "    def speak(self):\n",
    "        return f\"{self.name} makes sound\"\n",
    "class Dog(Animal):\n",
    "    def speak(self):\n",
    "        return f\"{self.name} barks\"\n",
    "class Cat(Animal):\n",
    "    def speak(self):\n",
    "        return f\"{self.name} meow\"\n",
    "    "
   ]
  },
  {
   "cell_type": "code",
   "execution_count": 12,
   "id": "b44c8f4a",
   "metadata": {},
   "outputs": [
    {
     "name": "stdout",
     "output_type": "stream",
     "text": [
      "Generic Animal makes sound\n"
     ]
    }
   ],
   "source": [
    "animal=Animal(\"Generic Animal\")\n",
    "print(animal.speak())"
   ]
  },
  {
   "cell_type": "code",
   "execution_count": 13,
   "id": "3db4a249",
   "metadata": {},
   "outputs": [
    {
     "name": "stdout",
     "output_type": "stream",
     "text": [
      "max barks\n"
     ]
    }
   ],
   "source": [
    "dog=Dog(\"max\")\n",
    "print(dog.speak())"
   ]
  },
  {
   "cell_type": "code",
   "execution_count": 14,
   "id": "8a14caaa",
   "metadata": {},
   "outputs": [
    {
     "name": "stdout",
     "output_type": "stream",
     "text": [
      "tom meow\n"
     ]
    }
   ],
   "source": [
    "cat=Cat(\"tom\")\n",
    "print(cat.speak())"
   ]
  },
  {
   "cell_type": "code",
   "execution_count": 3,
   "id": "228b324f",
   "metadata": {},
   "outputs": [
    {
     "name": "stdout",
     "output_type": "stream",
     "text": [
      "class a\n"
     ]
    }
   ],
   "source": [
    "#inheritance\n",
    "class A:\n",
    "    def fun1(self):\n",
    "        print(\"class a\")\n",
    "class B(A):\n",
    "    pass\n",
    "obj=B()\n",
    "obj.fun1()"
   ]
  },
  {
   "cell_type": "code",
   "execution_count": 4,
   "id": "cc6c621a",
   "metadata": {},
   "outputs": [
    {
     "name": "stdout",
     "output_type": "stream",
     "text": [
      "9\n",
      "None\n"
     ]
    }
   ],
   "source": [
    "#polymorphism\n",
    "def sum(a,b):\n",
    "    print(a+b)\n",
    "def sum(a,b,c):\n",
    "    print(a+b+c)\n",
    "print(sum(2,3,4))"
   ]
  },
  {
   "cell_type": "code",
   "execution_count": 6,
   "id": "475f3af0",
   "metadata": {},
   "outputs": [
    {
     "name": "stdout",
     "output_type": "stream",
     "text": [
      "243\n",
      "161\n",
      "34 23 43\n"
     ]
    }
   ],
   "source": [
    "def add(d,e,f=0,g=0):\n",
    "    print(d+e+f+g)\n",
    "add(200,43)\n",
    "add(30,45,32,54)\n",
    "print(34,23,43)"
   ]
  },
  {
   "cell_type": "code",
   "execution_count": 7,
   "id": "bd94240c",
   "metadata": {},
   "outputs": [
    {
     "name": "stdout",
     "output_type": "stream",
     "text": [
      "some generic sounds\n",
      "meow\n",
      "barks\n"
     ]
    }
   ],
   "source": [
    "#method overriding\n",
    "class Animal:\n",
    "    def sound(siri):\n",
    "        return \"some generic sounds\"\n",
    "class Dog():\n",
    "    def sound(siri):\n",
    "        return \"barks\"\n",
    "class Cat():\n",
    "    def sound(siri):\n",
    "        return \"meow\"\n",
    "animal=Animal()\n",
    "dog=Dog()\n",
    "cat=Cat()\n",
    "\n",
    "print(animal.sound())\n",
    "print(cat.sound())\n",
    "print(dog.sound())\n",
    "    "
   ]
  },
  {
   "cell_type": "code",
   "execution_count": 10,
   "id": "e497ae0e",
   "metadata": {},
   "outputs": [
    {
     "name": "stdout",
     "output_type": "stream",
     "text": [
      "5\n",
      "17\n"
     ]
    }
   ],
   "source": [
    "#method overloading\n",
    "class MathOperations:\n",
    "    def add(self,a=0,b=0,c=0,d=0):\n",
    "        return a+b+c+d\n",
    "math_op=MathOperations()\n",
    "print(math_op.add(2,3))\n",
    "print(math_op.add(2,4,5,6))\n",
    "        "
   ]
  },
  {
   "cell_type": "code",
   "execution_count": 16,
   "id": "cd044b07",
   "metadata": {},
   "outputs": [
    {
     "name": "stdout",
     "output_type": "stream",
     "text": [
      "10\n",
      "20\n"
     ]
    }
   ],
   "source": [
    "#encapsulation\n",
    "class A:\n",
    "    a=10\n",
    "    __b=20\n",
    "    def func1(self):\n",
    "        print(self.a)\n",
    "    def func2(self):\n",
    "        print(self.__b)\n",
    "obj=A()\n",
    "obj.func1()\n",
    "obj.func2()"
   ]
  },
  {
   "cell_type": "code",
   "execution_count": null,
   "id": "8dd32306",
   "metadata": {},
   "outputs": [],
   "source": []
  }
 ],
 "metadata": {
  "kernelspec": {
   "display_name": "Python 3 (ipykernel)",
   "language": "python",
   "name": "python3"
  },
  "language_info": {
   "codemirror_mode": {
    "name": "ipython",
    "version": 3
   },
   "file_extension": ".py",
   "mimetype": "text/x-python",
   "name": "python",
   "nbconvert_exporter": "python",
   "pygments_lexer": "ipython3",
   "version": "3.11.5"
  }
 },
 "nbformat": 4,
 "nbformat_minor": 5
}
